{
 "cells": [
  {
   "cell_type": "code",
   "execution_count": 1,
   "metadata": {},
   "outputs": [],
   "source": [
    "import warnings\n",
    "warnings.filterwarnings('ignore')\n",
    "\n",
    "from MachineTranslationDataset import *\n",
    "from Transformer import *\n",
    "from torch.utils.data import DataLoader\n",
    "import pytorch_lightning as pl\n",
    "from pytorch_lightning.callbacks import ModelCheckpoint, LearningRateMonitor\n",
    "from sklearn.model_selection import train_test_split\n",
    "import pandas as pd"
   ]
  },
  {
   "cell_type": "code",
   "execution_count": 2,
   "metadata": {},
   "outputs": [],
   "source": [
    "df = pd.read_csv(\"data\\english-spanish-dataset.csv\", index_col=0)\n",
    "\n",
    "train_sentences = df[\"english\"].values\n",
    "train_traduced_sentences = df[\"spanish\"].values\n",
    "\n",
    "train_sentences, val_sentences, train_traduced_sentences, val_traduced_sentences = train_test_split(train_sentences, train_traduced_sentences, test_size=0.1, random_state=42)\n",
    "val_sentences, test_sentences, val_traduced_sentences, test_traduced_sentences = train_test_split(val_sentences, val_traduced_sentences, test_size=0.5, random_state=42)"
   ]
  },
  {
   "cell_type": "code",
   "execution_count": 3,
   "metadata": {},
   "outputs": [],
   "source": [
    "trainds = TextTranslationDataset(train_sentences, train_traduced_sentences, 128)\n",
    "valds = TextTranslationDataset(val_sentences, val_traduced_sentences, 128)\n",
    "testds = TextTranslationDataset(test_sentences, test_traduced_sentences, 128)\n",
    "\n",
    "trainloader = DataLoader(trainds, batch_size=128, shuffle=True, collate_fn=trainds.collate_fn)\n",
    "valloader = DataLoader(valds, batch_size=128, shuffle=False, collate_fn=valds.collate_fn)\n",
    "testloader = DataLoader(testds, batch_size=128, shuffle=False, collate_fn=testds.collate_fn)"
   ]
  },
  {
   "cell_type": "code",
   "execution_count": 4,
   "metadata": {},
   "outputs": [],
   "source": [
    "params = {\n",
    "    'd_model' : 128,\n",
    "    'num_heads' : 8,\n",
    "    'num_layers' : 3,\n",
    "    'd_ff' : 512,\n",
    "    'max_seq_length' : 128,\n",
    "    'dropout' : 0.2,\n",
    "    'src_tokenizer' : trainds.src_tokenizer,\n",
    "    'tgt_tokenizer' : trainds.tgt_tokenizer\n",
    "}\n",
    "\n",
    "model = TransformerMachineTranslation(**params)"
   ]
  },
  {
   "cell_type": "code",
   "execution_count": 5,
   "metadata": {},
   "outputs": [],
   "source": [
    "checkpoint_callback = ModelCheckpoint(\n",
    "    monitor='val_loss',\n",
    "    filename='transformer-{epoch:02d}-{val_loss:.2f}',\n",
    "    save_top_k=3,\n",
    "    mode='min',\n",
    "    dirpath='checkpoints/',\n",
    "    save_last=True,\n",
    "    verbose=True\n",
    ")\n",
    "\n",
    "lr_logger = LearningRateMonitor(logging_interval='step')"
   ]
  },
  {
   "cell_type": "code",
   "execution_count": null,
   "metadata": {},
   "outputs": [],
   "source": []
  },
  {
   "cell_type": "code",
   "execution_count": 6,
   "metadata": {},
   "outputs": [
    {
     "name": "stderr",
     "output_type": "stream",
     "text": [
      "GPU available: True (cuda), used: True\n",
      "TPU available: False, using: 0 TPU cores\n",
      "IPU available: False, using: 0 IPUs\n",
      "HPU available: False, using: 0 HPUs\n",
      "LOCAL_RANK: 0 - CUDA_VISIBLE_DEVICES: [0]\n",
      "\n",
      "  | Name  | Type             | Params\n",
      "-------------------------------------------\n",
      "0 | model | Transformer      | 13.3 M\n",
      "1 | loss  | CrossEntropyLoss | 0     \n",
      "-------------------------------------------\n",
      "13.3 M    Trainable params\n",
      "0         Non-trainable params\n",
      "13.3 M    Total params\n",
      "53.051    Total estimated model params size (MB)\n"
     ]
    },
    {
     "name": "stdout",
     "output_type": "stream",
     "text": [
      "Epoch 0: 100%|██████████| 849/849 [01:09<00:00, 12.21it/s, v_num=1, train_loss=5.560, val_loss=5.670]"
     ]
    },
    {
     "name": "stderr",
     "output_type": "stream",
     "text": [
      "Epoch 0, global step 849: 'val_loss' reached 5.66690 (best 5.66690), saving model to 'D:\\\\CODE\\\\py\\\\DL\\\\Transformer - Copy\\\\checkpoints\\\\transformer-epoch=00-val_loss=5.67.ckpt' as top 3\n"
     ]
    },
    {
     "name": "stdout",
     "output_type": "stream",
     "text": [
      "Epoch 1: 100%|██████████| 849/849 [01:05<00:00, 12.89it/s, v_num=1, train_loss=4.800, val_loss=4.910]"
     ]
    },
    {
     "name": "stderr",
     "output_type": "stream",
     "text": [
      "Epoch 1, global step 1698: 'val_loss' reached 4.90619 (best 4.90619), saving model to 'D:\\\\CODE\\\\py\\\\DL\\\\Transformer - Copy\\\\checkpoints\\\\transformer-epoch=01-val_loss=4.91.ckpt' as top 3\n"
     ]
    },
    {
     "name": "stdout",
     "output_type": "stream",
     "text": [
      "Epoch 2: 100%|██████████| 849/849 [01:05<00:00, 12.92it/s, v_num=1, train_loss=4.110, val_loss=4.310]"
     ]
    },
    {
     "name": "stderr",
     "output_type": "stream",
     "text": [
      "Epoch 2, global step 2547: 'val_loss' reached 4.31424 (best 4.31424), saving model to 'D:\\\\CODE\\\\py\\\\DL\\\\Transformer - Copy\\\\checkpoints\\\\transformer-epoch=02-val_loss=4.31.ckpt' as top 3\n"
     ]
    },
    {
     "name": "stdout",
     "output_type": "stream",
     "text": [
      "Epoch 3: 100%|██████████| 849/849 [01:06<00:00, 12.83it/s, v_num=1, train_loss=4.710, val_loss=4.180]"
     ]
    },
    {
     "name": "stderr",
     "output_type": "stream",
     "text": [
      "Epoch 3, global step 3396: 'val_loss' reached 4.18449 (best 4.18449), saving model to 'D:\\\\CODE\\\\py\\\\DL\\\\Transformer - Copy\\\\checkpoints\\\\transformer-epoch=03-val_loss=4.18.ckpt' as top 3\n"
     ]
    },
    {
     "name": "stdout",
     "output_type": "stream",
     "text": [
      "Epoch 4: 100%|██████████| 849/849 [01:06<00:00, 12.79it/s, v_num=1, train_loss=4.990, val_loss=3.920]"
     ]
    },
    {
     "name": "stderr",
     "output_type": "stream",
     "text": [
      "Epoch 4, global step 4245: 'val_loss' reached 3.92198 (best 3.92198), saving model to 'D:\\\\CODE\\\\py\\\\DL\\\\Transformer - Copy\\\\checkpoints\\\\transformer-epoch=04-val_loss=3.92.ckpt' as top 3\n"
     ]
    },
    {
     "name": "stdout",
     "output_type": "stream",
     "text": [
      "Epoch 5: 100%|██████████| 849/849 [01:05<00:00, 12.93it/s, v_num=1, train_loss=4.460, val_loss=3.900]"
     ]
    },
    {
     "name": "stderr",
     "output_type": "stream",
     "text": [
      "Epoch 5, global step 5094: 'val_loss' reached 3.89563 (best 3.89563), saving model to 'D:\\\\CODE\\\\py\\\\DL\\\\Transformer - Copy\\\\checkpoints\\\\transformer-epoch=05-val_loss=3.90.ckpt' as top 3\n"
     ]
    },
    {
     "name": "stdout",
     "output_type": "stream",
     "text": [
      "Epoch 6: 100%|██████████| 849/849 [01:06<00:00, 12.79it/s, v_num=1, train_loss=4.780, val_loss=3.800]"
     ]
    },
    {
     "name": "stderr",
     "output_type": "stream",
     "text": [
      "Epoch 6, global step 5943: 'val_loss' reached 3.79955 (best 3.79955), saving model to 'D:\\\\CODE\\\\py\\\\DL\\\\Transformer - Copy\\\\checkpoints\\\\transformer-epoch=06-val_loss=3.80.ckpt' as top 3\n"
     ]
    },
    {
     "name": "stdout",
     "output_type": "stream",
     "text": [
      "Epoch 7: 100%|██████████| 849/849 [01:05<00:00, 13.00it/s, v_num=1, train_loss=3.550, val_loss=3.590]"
     ]
    },
    {
     "name": "stderr",
     "output_type": "stream",
     "text": [
      "Epoch 7, global step 6792: 'val_loss' reached 3.58764 (best 3.58764), saving model to 'D:\\\\CODE\\\\py\\\\DL\\\\Transformer - Copy\\\\checkpoints\\\\transformer-epoch=07-val_loss=3.59.ckpt' as top 3\n"
     ]
    },
    {
     "name": "stdout",
     "output_type": "stream",
     "text": [
      "Epoch 8: 100%|██████████| 849/849 [01:05<00:00, 12.93it/s, v_num=1, train_loss=3.740, val_loss=3.620]"
     ]
    },
    {
     "name": "stderr",
     "output_type": "stream",
     "text": [
      "Epoch 8, global step 7641: 'val_loss' reached 3.61553 (best 3.58764), saving model to 'D:\\\\CODE\\\\py\\\\DL\\\\Transformer - Copy\\\\checkpoints\\\\transformer-epoch=08-val_loss=3.62.ckpt' as top 3\n"
     ]
    },
    {
     "name": "stdout",
     "output_type": "stream",
     "text": [
      "Epoch 9: 100%|██████████| 849/849 [01:05<00:00, 12.92it/s, v_num=1, train_loss=4.060, val_loss=3.480]"
     ]
    },
    {
     "name": "stderr",
     "output_type": "stream",
     "text": [
      "Epoch 9, global step 8490: 'val_loss' reached 3.47809 (best 3.47809), saving model to 'D:\\\\CODE\\\\py\\\\DL\\\\Transformer - Copy\\\\checkpoints\\\\transformer-epoch=09-val_loss=3.48.ckpt' as top 3\n"
     ]
    },
    {
     "name": "stdout",
     "output_type": "stream",
     "text": [
      "Epoch 10: 100%|██████████| 849/849 [01:05<00:00, 12.91it/s, v_num=1, train_loss=3.680, val_loss=3.540]"
     ]
    },
    {
     "name": "stderr",
     "output_type": "stream",
     "text": [
      "Epoch 10, global step 9339: 'val_loss' reached 3.53683 (best 3.47809), saving model to 'D:\\\\CODE\\\\py\\\\DL\\\\Transformer - Copy\\\\checkpoints\\\\transformer-epoch=10-val_loss=3.54.ckpt' as top 3\n"
     ]
    },
    {
     "name": "stdout",
     "output_type": "stream",
     "text": [
      "Epoch 11: 100%|██████████| 849/849 [01:06<00:00, 12.84it/s, v_num=1, train_loss=4.190, val_loss=3.410]"
     ]
    },
    {
     "name": "stderr",
     "output_type": "stream",
     "text": [
      "Epoch 11, global step 10188: 'val_loss' reached 3.41129 (best 3.41129), saving model to 'D:\\\\CODE\\\\py\\\\DL\\\\Transformer - Copy\\\\checkpoints\\\\transformer-epoch=11-val_loss=3.41.ckpt' as top 3\n"
     ]
    },
    {
     "name": "stdout",
     "output_type": "stream",
     "text": [
      "Epoch 12: 100%|██████████| 849/849 [01:05<00:00, 12.87it/s, v_num=1, train_loss=3.110, val_loss=3.450]"
     ]
    },
    {
     "name": "stderr",
     "output_type": "stream",
     "text": [
      "Epoch 12, global step 11037: 'val_loss' reached 3.45305 (best 3.41129), saving model to 'D:\\\\CODE\\\\py\\\\DL\\\\Transformer - Copy\\\\checkpoints\\\\transformer-epoch=12-val_loss=3.45.ckpt' as top 3\n"
     ]
    },
    {
     "name": "stdout",
     "output_type": "stream",
     "text": [
      "Epoch 13: 100%|██████████| 849/849 [01:05<00:00, 12.92it/s, v_num=1, train_loss=3.240, val_loss=3.430]"
     ]
    },
    {
     "name": "stderr",
     "output_type": "stream",
     "text": [
      "Epoch 13, global step 11886: 'val_loss' reached 3.43374 (best 3.41129), saving model to 'D:\\\\CODE\\\\py\\\\DL\\\\Transformer - Copy\\\\checkpoints\\\\transformer-epoch=13-val_loss=3.43.ckpt' as top 3\n"
     ]
    },
    {
     "name": "stdout",
     "output_type": "stream",
     "text": [
      "Epoch 14: 100%|██████████| 849/849 [01:05<00:00, 13.01it/s, v_num=1, train_loss=4.360, val_loss=3.290]"
     ]
    },
    {
     "name": "stderr",
     "output_type": "stream",
     "text": [
      "Epoch 14, global step 12735: 'val_loss' reached 3.29165 (best 3.29165), saving model to 'D:\\\\CODE\\\\py\\\\DL\\\\Transformer - Copy\\\\checkpoints\\\\transformer-epoch=14-val_loss=3.29.ckpt' as top 3\n"
     ]
    },
    {
     "name": "stdout",
     "output_type": "stream",
     "text": [
      "Epoch 15: 100%|██████████| 849/849 [01:06<00:00, 12.86it/s, v_num=1, train_loss=3.280, val_loss=3.370]"
     ]
    },
    {
     "name": "stderr",
     "output_type": "stream",
     "text": [
      "Epoch 15, global step 13584: 'val_loss' reached 3.36820 (best 3.29165), saving model to 'D:\\\\CODE\\\\py\\\\DL\\\\Transformer - Copy\\\\checkpoints\\\\transformer-epoch=15-val_loss=3.37.ckpt' as top 3\n"
     ]
    },
    {
     "name": "stdout",
     "output_type": "stream",
     "text": [
      "Epoch 16: 100%|██████████| 849/849 [01:08<00:00, 12.40it/s, v_num=1, train_loss=2.910, val_loss=3.250]"
     ]
    },
    {
     "name": "stderr",
     "output_type": "stream",
     "text": [
      "Epoch 16, global step 14433: 'val_loss' reached 3.25002 (best 3.25002), saving model to 'D:\\\\CODE\\\\py\\\\DL\\\\Transformer - Copy\\\\checkpoints\\\\transformer-epoch=16-val_loss=3.25.ckpt' as top 3\n"
     ]
    },
    {
     "name": "stdout",
     "output_type": "stream",
     "text": [
      "Epoch 17: 100%|██████████| 849/849 [01:09<00:00, 12.24it/s, v_num=1, train_loss=3.650, val_loss=3.310]"
     ]
    },
    {
     "name": "stderr",
     "output_type": "stream",
     "text": [
      "Epoch 17, global step 15282: 'val_loss' reached 3.31340 (best 3.25002), saving model to 'D:\\\\CODE\\\\py\\\\DL\\\\Transformer - Copy\\\\checkpoints\\\\transformer-epoch=17-val_loss=3.31.ckpt' as top 3\n"
     ]
    },
    {
     "name": "stdout",
     "output_type": "stream",
     "text": [
      "Epoch 18: 100%|██████████| 849/849 [01:09<00:00, 12.24it/s, v_num=1, train_loss=3.310, val_loss=3.230]"
     ]
    },
    {
     "name": "stderr",
     "output_type": "stream",
     "text": [
      "Epoch 18, global step 16131: 'val_loss' reached 3.23012 (best 3.23012), saving model to 'D:\\\\CODE\\\\py\\\\DL\\\\Transformer - Copy\\\\checkpoints\\\\transformer-epoch=18-val_loss=3.23.ckpt' as top 3\n"
     ]
    },
    {
     "name": "stdout",
     "output_type": "stream",
     "text": [
      "Epoch 19: 100%|██████████| 849/849 [01:09<00:00, 12.20it/s, v_num=1, train_loss=3.630, val_loss=3.290]"
     ]
    },
    {
     "name": "stderr",
     "output_type": "stream",
     "text": [
      "Epoch 19, global step 16980: 'val_loss' reached 3.28953 (best 3.23012), saving model to 'D:\\\\CODE\\\\py\\\\DL\\\\Transformer - Copy\\\\checkpoints\\\\transformer-epoch=19-val_loss=3.29.ckpt' as top 3\n"
     ]
    },
    {
     "name": "stdout",
     "output_type": "stream",
     "text": [
      "Epoch 20: 100%|██████████| 849/849 [01:10<00:00, 12.10it/s, v_num=1, train_loss=4.100, val_loss=3.280]"
     ]
    },
    {
     "name": "stderr",
     "output_type": "stream",
     "text": [
      "Epoch 20, global step 17829: 'val_loss' reached 3.27781 (best 3.23012), saving model to 'D:\\\\CODE\\\\py\\\\DL\\\\Transformer - Copy\\\\checkpoints\\\\transformer-epoch=20-val_loss=3.28.ckpt' as top 3\n"
     ]
    },
    {
     "name": "stdout",
     "output_type": "stream",
     "text": [
      "Epoch 21: 100%|██████████| 849/849 [01:09<00:00, 12.24it/s, v_num=1, train_loss=2.760, val_loss=3.160]"
     ]
    },
    {
     "name": "stderr",
     "output_type": "stream",
     "text": [
      "Epoch 21, global step 18678: 'val_loss' reached 3.16127 (best 3.16127), saving model to 'D:\\\\CODE\\\\py\\\\DL\\\\Transformer - Copy\\\\checkpoints\\\\transformer-epoch=21-val_loss=3.16.ckpt' as top 3\n"
     ]
    },
    {
     "name": "stdout",
     "output_type": "stream",
     "text": [
      "Epoch 22: 100%|██████████| 849/849 [01:09<00:00, 12.13it/s, v_num=1, train_loss=3.470, val_loss=3.240]"
     ]
    },
    {
     "name": "stderr",
     "output_type": "stream",
     "text": [
      "Epoch 22, global step 19527: 'val_loss' reached 3.23711 (best 3.16127), saving model to 'D:\\\\CODE\\\\py\\\\DL\\\\Transformer - Copy\\\\checkpoints\\\\transformer-epoch=22-val_loss=3.24.ckpt' as top 3\n"
     ]
    },
    {
     "name": "stdout",
     "output_type": "stream",
     "text": [
      "Epoch 23: 100%|██████████| 849/849 [01:09<00:00, 12.13it/s, v_num=1, train_loss=3.210, val_loss=3.140]"
     ]
    },
    {
     "name": "stderr",
     "output_type": "stream",
     "text": [
      "Epoch 23, global step 20376: 'val_loss' reached 3.14090 (best 3.14090), saving model to 'D:\\\\CODE\\\\py\\\\DL\\\\Transformer - Copy\\\\checkpoints\\\\transformer-epoch=23-val_loss=3.14.ckpt' as top 3\n"
     ]
    },
    {
     "name": "stdout",
     "output_type": "stream",
     "text": [
      "Epoch 24: 100%|██████████| 849/849 [01:09<00:00, 12.26it/s, v_num=1, train_loss=3.150, val_loss=3.210]"
     ]
    },
    {
     "name": "stderr",
     "output_type": "stream",
     "text": [
      "Epoch 24, global step 21225: 'val_loss' reached 3.20987 (best 3.14090), saving model to 'D:\\\\CODE\\\\py\\\\DL\\\\Transformer - Copy\\\\checkpoints\\\\transformer-epoch=24-val_loss=3.21.ckpt' as top 3\n"
     ]
    },
    {
     "name": "stdout",
     "output_type": "stream",
     "text": [
      "Epoch 25: 100%|██████████| 849/849 [01:06<00:00, 12.75it/s, v_num=1, train_loss=3.200, val_loss=3.140]"
     ]
    },
    {
     "name": "stderr",
     "output_type": "stream",
     "text": [
      "Epoch 25, global step 22074: 'val_loss' reached 3.13767 (best 3.13767), saving model to 'D:\\\\CODE\\\\py\\\\DL\\\\Transformer - Copy\\\\checkpoints\\\\transformer-epoch=25-val_loss=3.14.ckpt' as top 3\n"
     ]
    },
    {
     "name": "stdout",
     "output_type": "stream",
     "text": [
      "Epoch 26: 100%|██████████| 849/849 [01:06<00:00, 12.82it/s, v_num=1, train_loss=3.950, val_loss=3.200]"
     ]
    },
    {
     "name": "stderr",
     "output_type": "stream",
     "text": [
      "Epoch 26, global step 22923: 'val_loss' was not in top 3\n"
     ]
    },
    {
     "name": "stdout",
     "output_type": "stream",
     "text": [
      "Epoch 27: 100%|██████████| 849/849 [01:05<00:00, 12.88it/s, v_num=1, train_loss=2.150, val_loss=3.190]"
     ]
    },
    {
     "name": "stderr",
     "output_type": "stream",
     "text": [
      "Epoch 27, global step 23772: 'val_loss' was not in top 3\n"
     ]
    },
    {
     "name": "stdout",
     "output_type": "stream",
     "text": [
      "Epoch 28: 100%|██████████| 849/849 [01:06<00:00, 12.86it/s, v_num=1, train_loss=2.760, val_loss=3.090]"
     ]
    },
    {
     "name": "stderr",
     "output_type": "stream",
     "text": [
      "Epoch 28, global step 24621: 'val_loss' reached 3.08695 (best 3.08695), saving model to 'D:\\\\CODE\\\\py\\\\DL\\\\Transformer - Copy\\\\checkpoints\\\\transformer-epoch=28-val_loss=3.09.ckpt' as top 3\n"
     ]
    },
    {
     "name": "stdout",
     "output_type": "stream",
     "text": [
      "Epoch 29: 100%|██████████| 849/849 [01:06<00:00, 12.71it/s, v_num=1, train_loss=3.330, val_loss=3.160]"
     ]
    },
    {
     "name": "stderr",
     "output_type": "stream",
     "text": [
      "Epoch 29, global step 25470: 'val_loss' was not in top 3\n"
     ]
    },
    {
     "name": "stdout",
     "output_type": "stream",
     "text": [
      "Epoch 30: 100%|██████████| 849/849 [01:06<00:00, 12.83it/s, v_num=1, train_loss=2.690, val_loss=3.070]"
     ]
    },
    {
     "name": "stderr",
     "output_type": "stream",
     "text": [
      "Epoch 30, global step 26319: 'val_loss' reached 3.07331 (best 3.07331), saving model to 'D:\\\\CODE\\\\py\\\\DL\\\\Transformer - Copy\\\\checkpoints\\\\transformer-epoch=30-val_loss=3.07.ckpt' as top 3\n"
     ]
    },
    {
     "name": "stdout",
     "output_type": "stream",
     "text": [
      "Epoch 31: 100%|██████████| 849/849 [01:06<00:00, 12.73it/s, v_num=1, train_loss=2.580, val_loss=3.140]"
     ]
    },
    {
     "name": "stderr",
     "output_type": "stream",
     "text": [
      "Epoch 31, global step 27168: 'val_loss' was not in top 3\n"
     ]
    },
    {
     "name": "stdout",
     "output_type": "stream",
     "text": [
      "Epoch 32: 100%|██████████| 849/849 [01:07<00:00, 12.53it/s, v_num=1, train_loss=3.570, val_loss=3.100]"
     ]
    },
    {
     "name": "stderr",
     "output_type": "stream",
     "text": [
      "Epoch 32, global step 28017: 'val_loss' reached 3.10470 (best 3.07331), saving model to 'D:\\\\CODE\\\\py\\\\DL\\\\Transformer - Copy\\\\checkpoints\\\\transformer-epoch=32-val_loss=3.10.ckpt' as top 3\n"
     ]
    },
    {
     "name": "stdout",
     "output_type": "stream",
     "text": [
      "Epoch 33: 100%|██████████| 849/849 [01:05<00:00, 12.92it/s, v_num=1, train_loss=3.460, val_loss=3.140]"
     ]
    },
    {
     "name": "stderr",
     "output_type": "stream",
     "text": [
      "Epoch 33, global step 28866: 'val_loss' was not in top 3\n"
     ]
    },
    {
     "name": "stdout",
     "output_type": "stream",
     "text": [
      "Epoch 34: 100%|██████████| 849/849 [01:06<00:00, 12.78it/s, v_num=1, train_loss=3.220, val_loss=3.130]"
     ]
    },
    {
     "name": "stderr",
     "output_type": "stream",
     "text": [
      "Epoch 34, global step 29715: 'val_loss' was not in top 3\n"
     ]
    },
    {
     "name": "stdout",
     "output_type": "stream",
     "text": [
      "Epoch 35: 100%|██████████| 849/849 [01:06<00:00, 12.77it/s, v_num=1, train_loss=3.060, val_loss=3.030]"
     ]
    },
    {
     "name": "stderr",
     "output_type": "stream",
     "text": [
      "Epoch 35, global step 30564: 'val_loss' reached 3.03362 (best 3.03362), saving model to 'D:\\\\CODE\\\\py\\\\DL\\\\Transformer - Copy\\\\checkpoints\\\\transformer-epoch=35-val_loss=3.03.ckpt' as top 3\n"
     ]
    },
    {
     "name": "stdout",
     "output_type": "stream",
     "text": [
      "Epoch 36: 100%|██████████| 849/849 [01:05<00:00, 12.88it/s, v_num=1, train_loss=3.240, val_loss=3.110]"
     ]
    },
    {
     "name": "stderr",
     "output_type": "stream",
     "text": [
      "Epoch 36, global step 31413: 'val_loss' was not in top 3\n"
     ]
    },
    {
     "name": "stdout",
     "output_type": "stream",
     "text": [
      "Epoch 37: 100%|██████████| 849/849 [01:05<00:00, 13.03it/s, v_num=1, train_loss=2.910, val_loss=3.030]"
     ]
    },
    {
     "name": "stderr",
     "output_type": "stream",
     "text": [
      "Epoch 37, global step 32262: 'val_loss' reached 3.02804 (best 3.02804), saving model to 'D:\\\\CODE\\\\py\\\\DL\\\\Transformer - Copy\\\\checkpoints\\\\transformer-epoch=37-val_loss=3.03.ckpt' as top 3\n"
     ]
    },
    {
     "name": "stdout",
     "output_type": "stream",
     "text": [
      "Epoch 38: 100%|██████████| 849/849 [01:08<00:00, 12.33it/s, v_num=1, train_loss=3.610, val_loss=3.100]"
     ]
    },
    {
     "name": "stderr",
     "output_type": "stream",
     "text": [
      "Epoch 38, global step 33111: 'val_loss' was not in top 3\n"
     ]
    },
    {
     "name": "stdout",
     "output_type": "stream",
     "text": [
      "Epoch 39: 100%|██████████| 849/849 [01:09<00:00, 12.20it/s, v_num=1, train_loss=2.280, val_loss=3.100]"
     ]
    },
    {
     "name": "stderr",
     "output_type": "stream",
     "text": [
      "Epoch 39, global step 33960: 'val_loss' was not in top 3\n",
      "`Trainer.fit` stopped: `max_epochs=40` reached.\n"
     ]
    },
    {
     "name": "stdout",
     "output_type": "stream",
     "text": [
      "Epoch 39: 100%|██████████| 849/849 [01:11<00:00, 11.81it/s, v_num=1, train_loss=2.280, val_loss=3.100]\n"
     ]
    }
   ],
   "source": [
    "trainer = pl.Trainer(accelerator=\"gpu\", max_epochs=40, callbacks=[checkpoint_callback, lr_logger])\n",
    "trainer.fit(model, trainloader, valloader)"
   ]
  }
 ],
 "metadata": {
  "kernelspec": {
   "display_name": "pytorch",
   "language": "python",
   "name": "python3"
  },
  "language_info": {
   "codemirror_mode": {
    "name": "ipython",
    "version": 3
   },
   "file_extension": ".py",
   "mimetype": "text/x-python",
   "name": "python",
   "nbconvert_exporter": "python",
   "pygments_lexer": "ipython3",
   "version": "3.9.16"
  },
  "orig_nbformat": 4
 },
 "nbformat": 4,
 "nbformat_minor": 2
}
