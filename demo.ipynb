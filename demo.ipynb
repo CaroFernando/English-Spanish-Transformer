{
 "cells": [
  {
   "cell_type": "code",
   "execution_count": 13,
   "metadata": {},
   "outputs": [],
   "source": [
    "from MachineTranslationDataset import *\n",
    "from Transformer import *\n",
    "from torch.utils.data import DataLoader\n",
    "import pytorch_lightning as pl\n",
    "from pytorch_lightning.callbacks import ModelCheckpoint, LearningRateMonitor\n",
    "from sklearn.model_selection import train_test_split\n",
    "import pandas as pd"
   ]
  },
  {
   "cell_type": "code",
   "execution_count": 14,
   "metadata": {},
   "outputs": [],
   "source": [
    "df = pd.read_csv(\"data\\english-spanish-dataset.csv\", index_col=0)\n",
    "\n",
    "train_sentences = df[\"english\"].values\n",
    "train_traduced_sentences = df[\"spanish\"].values"
   ]
  },
  {
   "cell_type": "code",
   "execution_count": 15,
   "metadata": {},
   "outputs": [],
   "source": [
    "ds = TextTranslationDataset(train_sentences, train_traduced_sentences, max_len=128)\n",
    "\n",
    "params = {\n",
    "    'd_model' : 128,\n",
    "    'num_heads' : 8,\n",
    "    'num_layers' : 3,\n",
    "    'd_ff' : 512,\n",
    "    'max_seq_length' : 128,\n",
    "    'dropout' : 0.2,\n",
    "    'src_tokenizer' : ds.src_tokenizer,\n",
    "    'tgt_tokenizer' : ds.tgt_tokenizer\n",
    "}\n",
    "\n",
    "model = TransformerMachineTranslation(**params)\n"
   ]
  },
  {
   "cell_type": "code",
   "execution_count": 16,
   "metadata": {},
   "outputs": [],
   "source": [
    "model = model.load_from_checkpoint(\"checkpoints/last.ckpt\", **params)\n",
    "model = model.eval()"
   ]
  },
  {
   "cell_type": "code",
   "execution_count": 17,
   "metadata": {},
   "outputs": [
    {
     "data": {
      "text/plain": [
       "'[CLS] cuandote alguiena ese [SEP]'"
      ]
     },
     "execution_count": 17,
     "metadata": {},
     "output_type": "execute_result"
    }
   ],
   "source": [
    "model.translate(\"I hate it when somebody makes that sound.\")"
   ]
  },
  {
   "cell_type": "code",
   "execution_count": 18,
   "metadata": {},
   "outputs": [
    {
     "data": {
      "text/plain": [
       "'[CLS] es en sobre [SEP]'"
      ]
     },
     "execution_count": 18,
     "metadata": {},
     "output_type": "execute_result"
    }
   ],
   "source": [
    "model.translate(\"the cat is on the table\")"
   ]
  },
  {
   "cell_type": "code",
   "execution_count": null,
   "metadata": {},
   "outputs": [],
   "source": []
  }
 ],
 "metadata": {
  "kernelspec": {
   "display_name": "pytorch",
   "language": "python",
   "name": "python3"
  },
  "language_info": {
   "codemirror_mode": {
    "name": "ipython",
    "version": 3
   },
   "file_extension": ".py",
   "mimetype": "text/x-python",
   "name": "python",
   "nbconvert_exporter": "python",
   "pygments_lexer": "ipython3",
   "version": "3.9.16"
  },
  "orig_nbformat": 4
 },
 "nbformat": 4,
 "nbformat_minor": 2
}
